{
  "nbformat": 4,
  "nbformat_minor": 0,
  "metadata": {
    "colab": {
      "name": "DataQuest_PranavBhagwat.ipynb",
      "provenance": [],
      "collapsed_sections": [],
      "authorship_tag": "ABX9TyOPJthdqzMe/hbb+/RjybIg",
      "include_colab_link": true
    },
    "kernelspec": {
      "name": "python3",
      "display_name": "Python 3"
    },
    "language_info": {
      "name": "python"
    }
  },
  "cells": [
    {
      "cell_type": "markdown",
      "metadata": {
        "id": "view-in-github",
        "colab_type": "text"
      },
      "source": [
        "<a href=\"https://colab.research.google.com/github/alt-Pranav/Pulzion-22-DataQuest/blob/master/DataQuest_PranavBhagwat.ipynb\" target=\"_parent\"><img src=\"https://colab.research.google.com/assets/colab-badge.svg\" alt=\"Open In Colab\"/></a>"
      ]
    },
    {
      "cell_type": "markdown",
      "source": [
        "INCOMPLETE, LEFT AT DATA CLEANING STAGE ON 18/04/2022 due to time crunch and other responsibilities.\n",
        "\n",
        "**DATAQUEST ENTRY FOR PULZION '22 BY PRANAV BHAGWAT**\n",
        "\n",
        "TE-BE Round 1\n",
        "\n",
        "**Overview:**\n",
        "\n",
        "Pulzion’22 has become talk of the town! Many shops have started selling official Pulzion merchandise and the marketing team of Pulzion wants to give concessions to the shops which might sell the maximum number of goodies. Help the Pulzion marketing team determine which shop might sell the maximum number of products and also which product that might be based on some previous data given by the shops.\n",
        "\n",
        "\n",
        "**Evaluation:**\n",
        "\n",
        "You have to predict two variables: ‘product’ and ‘num_sold.’ The evaluation metric is (true positives for product ‘Tee’ / total number of product ‘Tee’) + rmse for num_sold.\n",
        "\n",
        "\n",
        "**File Description:**\n",
        "\n",
        "dataquest_train:  Training data\n",
        "\n",
        "dataquest_test: Test set on which predictions are to be made\n",
        "\n",
        "Sample_Submission: Way to submit the Submission.csv on the Pulzion Submission Platform. \n",
        "\n",
        "\n",
        "**Data Fields:**\n",
        "\n",
        "row_id: the serial number of that entry\n",
        "\n",
        "date: date of the entry\n",
        "\n",
        "store: name of the store\n",
        "\n",
        "product: name of the product\n",
        "\n",
        "num_sold: number of products sold\n",
        "\n",
        "latitude: physical latitude of the store\n",
        "\n",
        "longitude: physical longitude of the store\n",
        "\n",
        "zone: physical zone of the store\n",
        "\n",
        "official_franchisee: whether the store is officially registered with Pulzion\n",
        "\n",
        "review: review given by customers\n",
        "\n",
        "area: total floor area of the shop\n",
        "\n",
        "rent: rent paid by the shop\n",
        "\n",
        "working_hrs: operation time of the store\n",
        "\n",
        "online_availability: whether the store sells its goods online\n",
        "\n",
        "phone_no: contact number of the shop \n",
        "\n",
        "\n"
      ],
      "metadata": {
        "id": "hxi6Zrtz8ooK"
      }
    },
    {
      "cell_type": "code",
      "execution_count": null,
      "metadata": {
        "colab": {
          "base_uri": "https://localhost:8080/",
          "height": 554
        },
        "id": "piV9EyQo8VA_",
        "outputId": "6253dc0a-5699-4c98-a1b5-6d98d35fab2e"
      },
      "outputs": [
        {
          "output_type": "execute_result",
          "data": {
            "text/plain": [
              "       row_id        date       store  product  num_sold  latitude  longitude  \\\n",
              "0           1    1/1/2015       CMart        2       520   73.8446  18.531444   \n",
              "1           2    1/1/2015       CMart        1       146   73.8652  18.453125   \n",
              "2           3    1/1/2015      Petals        0       572   73.9040  18.545940   \n",
              "3           4    1/1/2015      Petals        2       911   73.8031  18.559964   \n",
              "4           5    1/1/2015      Petals        1       283   73.8652  18.452509   \n",
              "...       ...         ...         ...      ...       ...       ...        ...   \n",
              "15175   26293  12/31/2018   Lifestyle        2       823   73.8031        NaN   \n",
              "15176   26294  12/31/2018   Lifestyle        1       250   73.8652  18.452724   \n",
              "15177   26295  12/31/2018  Only Vimal        0      1004   73.8652  18.453101   \n",
              "15178   26296  12/31/2018  Only Vimal        2      1441   73.8940  18.535900   \n",
              "15179   26297  12/31/2018  Only Vimal        1       388   73.8217  18.491617   \n",
              "\n",
              "        zone official_franchisee  \\\n",
              "0      north                 Yes   \n",
              "1      south                  No   \n",
              "2       east                  No   \n",
              "3      north                  No   \n",
              "4      south                 Yes   \n",
              "...      ...                 ...   \n",
              "15175    NaN                  No   \n",
              "15176  south                 Yes   \n",
              "15177  south                  No   \n",
              "15178   east                  No   \n",
              "15179  south                  No   \n",
              "\n",
              "                                                  review  area   rent  \\\n",
              "0                                             worst shop  2990  33227   \n",
              "1      ['Worst service', 'Not at all customer friendl...  2696  23363   \n",
              "2      this shopkeepr bery rood cannot even exchange ...   958  54788   \n",
              "3                                                     :)  1705  45536   \n",
              "4                                             worst shop  2805  26866   \n",
              "...                                                  ...   ...    ...   \n",
              "15175                                         worst shop  2276  51053   \n",
              "15176                                         worst shop  1688  10416   \n",
              "15177                                                 :)  1361  12394   \n",
              "15178                                                 :)  1972  45907   \n",
              "15179                                         worst shop  2848  49655   \n",
              "\n",
              "       Working_hrs Online_availability      Phone-no  \n",
              "0              7.5                   Y  7.720200e+09  \n",
              "1              9.0                   Y  7.928620e+09  \n",
              "2              7.5                   Y  9.075213e+09  \n",
              "3              7.5                   N  9.075212e+09  \n",
              "4              9.5                   Y  9.075213e+09  \n",
              "...            ...                 ...           ...  \n",
              "15175          9.5                   N  9.371100e+09  \n",
              "15176          9.0                   Y  7.620100e+09  \n",
              "15177          9.0                   Y  7.720200e+09  \n",
              "15178          6.5                   N  9.271200e+09  \n",
              "15179          7.0                   Y  7.720200e+09  \n",
              "\n",
              "[15180 rows x 15 columns]"
            ],
            "text/html": [
              "\n",
              "  <div id=\"df-260732b2-820c-4a9c-bd0b-5c07a661b78e\">\n",
              "    <div class=\"colab-df-container\">\n",
              "      <div>\n",
              "<style scoped>\n",
              "    .dataframe tbody tr th:only-of-type {\n",
              "        vertical-align: middle;\n",
              "    }\n",
              "\n",
              "    .dataframe tbody tr th {\n",
              "        vertical-align: top;\n",
              "    }\n",
              "\n",
              "    .dataframe thead th {\n",
              "        text-align: right;\n",
              "    }\n",
              "</style>\n",
              "<table border=\"1\" class=\"dataframe\">\n",
              "  <thead>\n",
              "    <tr style=\"text-align: right;\">\n",
              "      <th></th>\n",
              "      <th>row_id</th>\n",
              "      <th>date</th>\n",
              "      <th>store</th>\n",
              "      <th>product</th>\n",
              "      <th>num_sold</th>\n",
              "      <th>latitude</th>\n",
              "      <th>longitude</th>\n",
              "      <th>zone</th>\n",
              "      <th>official_franchisee</th>\n",
              "      <th>review</th>\n",
              "      <th>area</th>\n",
              "      <th>rent</th>\n",
              "      <th>Working_hrs</th>\n",
              "      <th>Online_availability</th>\n",
              "      <th>Phone-no</th>\n",
              "    </tr>\n",
              "  </thead>\n",
              "  <tbody>\n",
              "    <tr>\n",
              "      <th>0</th>\n",
              "      <td>1</td>\n",
              "      <td>1/1/2015</td>\n",
              "      <td>CMart</td>\n",
              "      <td>2</td>\n",
              "      <td>520</td>\n",
              "      <td>73.8446</td>\n",
              "      <td>18.531444</td>\n",
              "      <td>north</td>\n",
              "      <td>Yes</td>\n",
              "      <td>worst shop</td>\n",
              "      <td>2990</td>\n",
              "      <td>33227</td>\n",
              "      <td>7.5</td>\n",
              "      <td>Y</td>\n",
              "      <td>7.720200e+09</td>\n",
              "    </tr>\n",
              "    <tr>\n",
              "      <th>1</th>\n",
              "      <td>2</td>\n",
              "      <td>1/1/2015</td>\n",
              "      <td>CMart</td>\n",
              "      <td>1</td>\n",
              "      <td>146</td>\n",
              "      <td>73.8652</td>\n",
              "      <td>18.453125</td>\n",
              "      <td>south</td>\n",
              "      <td>No</td>\n",
              "      <td>['Worst service', 'Not at all customer friendl...</td>\n",
              "      <td>2696</td>\n",
              "      <td>23363</td>\n",
              "      <td>9.0</td>\n",
              "      <td>Y</td>\n",
              "      <td>7.928620e+09</td>\n",
              "    </tr>\n",
              "    <tr>\n",
              "      <th>2</th>\n",
              "      <td>3</td>\n",
              "      <td>1/1/2015</td>\n",
              "      <td>Petals</td>\n",
              "      <td>0</td>\n",
              "      <td>572</td>\n",
              "      <td>73.9040</td>\n",
              "      <td>18.545940</td>\n",
              "      <td>east</td>\n",
              "      <td>No</td>\n",
              "      <td>this shopkeepr bery rood cannot even exchange ...</td>\n",
              "      <td>958</td>\n",
              "      <td>54788</td>\n",
              "      <td>7.5</td>\n",
              "      <td>Y</td>\n",
              "      <td>9.075213e+09</td>\n",
              "    </tr>\n",
              "    <tr>\n",
              "      <th>3</th>\n",
              "      <td>4</td>\n",
              "      <td>1/1/2015</td>\n",
              "      <td>Petals</td>\n",
              "      <td>2</td>\n",
              "      <td>911</td>\n",
              "      <td>73.8031</td>\n",
              "      <td>18.559964</td>\n",
              "      <td>north</td>\n",
              "      <td>No</td>\n",
              "      <td>:)</td>\n",
              "      <td>1705</td>\n",
              "      <td>45536</td>\n",
              "      <td>7.5</td>\n",
              "      <td>N</td>\n",
              "      <td>9.075212e+09</td>\n",
              "    </tr>\n",
              "    <tr>\n",
              "      <th>4</th>\n",
              "      <td>5</td>\n",
              "      <td>1/1/2015</td>\n",
              "      <td>Petals</td>\n",
              "      <td>1</td>\n",
              "      <td>283</td>\n",
              "      <td>73.8652</td>\n",
              "      <td>18.452509</td>\n",
              "      <td>south</td>\n",
              "      <td>Yes</td>\n",
              "      <td>worst shop</td>\n",
              "      <td>2805</td>\n",
              "      <td>26866</td>\n",
              "      <td>9.5</td>\n",
              "      <td>Y</td>\n",
              "      <td>9.075213e+09</td>\n",
              "    </tr>\n",
              "    <tr>\n",
              "      <th>...</th>\n",
              "      <td>...</td>\n",
              "      <td>...</td>\n",
              "      <td>...</td>\n",
              "      <td>...</td>\n",
              "      <td>...</td>\n",
              "      <td>...</td>\n",
              "      <td>...</td>\n",
              "      <td>...</td>\n",
              "      <td>...</td>\n",
              "      <td>...</td>\n",
              "      <td>...</td>\n",
              "      <td>...</td>\n",
              "      <td>...</td>\n",
              "      <td>...</td>\n",
              "      <td>...</td>\n",
              "    </tr>\n",
              "    <tr>\n",
              "      <th>15175</th>\n",
              "      <td>26293</td>\n",
              "      <td>12/31/2018</td>\n",
              "      <td>Lifestyle</td>\n",
              "      <td>2</td>\n",
              "      <td>823</td>\n",
              "      <td>73.8031</td>\n",
              "      <td>NaN</td>\n",
              "      <td>NaN</td>\n",
              "      <td>No</td>\n",
              "      <td>worst shop</td>\n",
              "      <td>2276</td>\n",
              "      <td>51053</td>\n",
              "      <td>9.5</td>\n",
              "      <td>N</td>\n",
              "      <td>9.371100e+09</td>\n",
              "    </tr>\n",
              "    <tr>\n",
              "      <th>15176</th>\n",
              "      <td>26294</td>\n",
              "      <td>12/31/2018</td>\n",
              "      <td>Lifestyle</td>\n",
              "      <td>1</td>\n",
              "      <td>250</td>\n",
              "      <td>73.8652</td>\n",
              "      <td>18.452724</td>\n",
              "      <td>south</td>\n",
              "      <td>Yes</td>\n",
              "      <td>worst shop</td>\n",
              "      <td>1688</td>\n",
              "      <td>10416</td>\n",
              "      <td>9.0</td>\n",
              "      <td>Y</td>\n",
              "      <td>7.620100e+09</td>\n",
              "    </tr>\n",
              "    <tr>\n",
              "      <th>15177</th>\n",
              "      <td>26295</td>\n",
              "      <td>12/31/2018</td>\n",
              "      <td>Only Vimal</td>\n",
              "      <td>0</td>\n",
              "      <td>1004</td>\n",
              "      <td>73.8652</td>\n",
              "      <td>18.453101</td>\n",
              "      <td>south</td>\n",
              "      <td>No</td>\n",
              "      <td>:)</td>\n",
              "      <td>1361</td>\n",
              "      <td>12394</td>\n",
              "      <td>9.0</td>\n",
              "      <td>Y</td>\n",
              "      <td>7.720200e+09</td>\n",
              "    </tr>\n",
              "    <tr>\n",
              "      <th>15178</th>\n",
              "      <td>26296</td>\n",
              "      <td>12/31/2018</td>\n",
              "      <td>Only Vimal</td>\n",
              "      <td>2</td>\n",
              "      <td>1441</td>\n",
              "      <td>73.8940</td>\n",
              "      <td>18.535900</td>\n",
              "      <td>east</td>\n",
              "      <td>No</td>\n",
              "      <td>:)</td>\n",
              "      <td>1972</td>\n",
              "      <td>45907</td>\n",
              "      <td>6.5</td>\n",
              "      <td>N</td>\n",
              "      <td>9.271200e+09</td>\n",
              "    </tr>\n",
              "    <tr>\n",
              "      <th>15179</th>\n",
              "      <td>26297</td>\n",
              "      <td>12/31/2018</td>\n",
              "      <td>Only Vimal</td>\n",
              "      <td>1</td>\n",
              "      <td>388</td>\n",
              "      <td>73.8217</td>\n",
              "      <td>18.491617</td>\n",
              "      <td>south</td>\n",
              "      <td>No</td>\n",
              "      <td>worst shop</td>\n",
              "      <td>2848</td>\n",
              "      <td>49655</td>\n",
              "      <td>7.0</td>\n",
              "      <td>Y</td>\n",
              "      <td>7.720200e+09</td>\n",
              "    </tr>\n",
              "  </tbody>\n",
              "</table>\n",
              "<p>15180 rows × 15 columns</p>\n",
              "</div>\n",
              "      <button class=\"colab-df-convert\" onclick=\"convertToInteractive('df-260732b2-820c-4a9c-bd0b-5c07a661b78e')\"\n",
              "              title=\"Convert this dataframe to an interactive table.\"\n",
              "              style=\"display:none;\">\n",
              "        \n",
              "  <svg xmlns=\"http://www.w3.org/2000/svg\" height=\"24px\"viewBox=\"0 0 24 24\"\n",
              "       width=\"24px\">\n",
              "    <path d=\"M0 0h24v24H0V0z\" fill=\"none\"/>\n",
              "    <path d=\"M18.56 5.44l.94 2.06.94-2.06 2.06-.94-2.06-.94-.94-2.06-.94 2.06-2.06.94zm-11 1L8.5 8.5l.94-2.06 2.06-.94-2.06-.94L8.5 2.5l-.94 2.06-2.06.94zm10 10l.94 2.06.94-2.06 2.06-.94-2.06-.94-.94-2.06-.94 2.06-2.06.94z\"/><path d=\"M17.41 7.96l-1.37-1.37c-.4-.4-.92-.59-1.43-.59-.52 0-1.04.2-1.43.59L10.3 9.45l-7.72 7.72c-.78.78-.78 2.05 0 2.83L4 21.41c.39.39.9.59 1.41.59.51 0 1.02-.2 1.41-.59l7.78-7.78 2.81-2.81c.8-.78.8-2.07 0-2.86zM5.41 20L4 18.59l7.72-7.72 1.47 1.35L5.41 20z\"/>\n",
              "  </svg>\n",
              "      </button>\n",
              "      \n",
              "  <style>\n",
              "    .colab-df-container {\n",
              "      display:flex;\n",
              "      flex-wrap:wrap;\n",
              "      gap: 12px;\n",
              "    }\n",
              "\n",
              "    .colab-df-convert {\n",
              "      background-color: #E8F0FE;\n",
              "      border: none;\n",
              "      border-radius: 50%;\n",
              "      cursor: pointer;\n",
              "      display: none;\n",
              "      fill: #1967D2;\n",
              "      height: 32px;\n",
              "      padding: 0 0 0 0;\n",
              "      width: 32px;\n",
              "    }\n",
              "\n",
              "    .colab-df-convert:hover {\n",
              "      background-color: #E2EBFA;\n",
              "      box-shadow: 0px 1px 2px rgba(60, 64, 67, 0.3), 0px 1px 3px 1px rgba(60, 64, 67, 0.15);\n",
              "      fill: #174EA6;\n",
              "    }\n",
              "\n",
              "    [theme=dark] .colab-df-convert {\n",
              "      background-color: #3B4455;\n",
              "      fill: #D2E3FC;\n",
              "    }\n",
              "\n",
              "    [theme=dark] .colab-df-convert:hover {\n",
              "      background-color: #434B5C;\n",
              "      box-shadow: 0px 1px 3px 1px rgba(0, 0, 0, 0.15);\n",
              "      filter: drop-shadow(0px 1px 2px rgba(0, 0, 0, 0.3));\n",
              "      fill: #FFFFFF;\n",
              "    }\n",
              "  </style>\n",
              "\n",
              "      <script>\n",
              "        const buttonEl =\n",
              "          document.querySelector('#df-260732b2-820c-4a9c-bd0b-5c07a661b78e button.colab-df-convert');\n",
              "        buttonEl.style.display =\n",
              "          google.colab.kernel.accessAllowed ? 'block' : 'none';\n",
              "\n",
              "        async function convertToInteractive(key) {\n",
              "          const element = document.querySelector('#df-260732b2-820c-4a9c-bd0b-5c07a661b78e');\n",
              "          const dataTable =\n",
              "            await google.colab.kernel.invokeFunction('convertToInteractive',\n",
              "                                                     [key], {});\n",
              "          if (!dataTable) return;\n",
              "\n",
              "          const docLinkHtml = 'Like what you see? Visit the ' +\n",
              "            '<a target=\"_blank\" href=https://colab.research.google.com/notebooks/data_table.ipynb>data table notebook</a>'\n",
              "            + ' to learn more about interactive tables.';\n",
              "          element.innerHTML = '';\n",
              "          dataTable['output_type'] = 'display_data';\n",
              "          await google.colab.output.renderOutput(dataTable, element);\n",
              "          const docLink = document.createElement('div');\n",
              "          docLink.innerHTML = docLinkHtml;\n",
              "          element.appendChild(docLink);\n",
              "        }\n",
              "      </script>\n",
              "    </div>\n",
              "  </div>\n",
              "  "
            ]
          },
          "metadata": {},
          "execution_count": 87
        }
      ],
      "source": [
        "import pandas as pd\n",
        "import seaborn as sns\n",
        "\n",
        "train_url = \"https://raw.githubusercontent.com/alt-Pranav/Pulzion-22-DataQuest/master/TE-BE_Round%201/dataquest_train.csv\"\n",
        "\n",
        "df_train = pd.read_csv(train_url)\n",
        "df_train"
      ]
    },
    {
      "cell_type": "code",
      "source": [
        "df_train.info()"
      ],
      "metadata": {
        "colab": {
          "base_uri": "https://localhost:8080/"
        },
        "id": "7hEWian56Ygd",
        "outputId": "d246e852-acb0-4f0a-ce5d-28cfa0576ee3"
      },
      "execution_count": null,
      "outputs": [
        {
          "output_type": "stream",
          "name": "stdout",
          "text": [
            "<class 'pandas.core.frame.DataFrame'>\n",
            "RangeIndex: 15180 entries, 0 to 15179\n",
            "Data columns (total 15 columns):\n",
            " #   Column               Non-Null Count  Dtype  \n",
            "---  ------               --------------  -----  \n",
            " 0   row_id               15180 non-null  int64  \n",
            " 1   date                 15180 non-null  object \n",
            " 2   store                15180 non-null  object \n",
            " 3   product              15180 non-null  int64  \n",
            " 4   num_sold             15180 non-null  int64  \n",
            " 5   latitude             15180 non-null  float64\n",
            " 6   longitude            13594 non-null  float64\n",
            " 7   zone                 14381 non-null  object \n",
            " 8   official_franchisee  15180 non-null  object \n",
            " 9   review               12088 non-null  object \n",
            " 10  area                 15180 non-null  int64  \n",
            " 11  rent                 15180 non-null  int64  \n",
            " 12  Working_hrs          15180 non-null  float64\n",
            " 13  Online_availability  13684 non-null  object \n",
            " 14  Phone-no             15180 non-null  float64\n",
            "dtypes: float64(4), int64(5), object(6)\n",
            "memory usage: 1.7+ MB\n"
          ]
        }
      ]
    },
    {
      "cell_type": "code",
      "source": [
        "df_train[\"store\"].unique()"
      ],
      "metadata": {
        "colab": {
          "base_uri": "https://localhost:8080/"
        },
        "id": "WmZd_3yF86J_",
        "outputId": "276f2f8f-657a-46e3-e6ec-45387f09c0b1"
      },
      "execution_count": null,
      "outputs": [
        {
          "output_type": "execute_result",
          "data": {
            "text/plain": [
              "array(['CMart', 'Petals', 'PTK Garments', 'CLai', 'Planet Fashion',\n",
              "       'Lifestyle', 'Only Vimal', 'Pantaloons'], dtype=object)"
            ]
          },
          "metadata": {},
          "execution_count": 89
        }
      ]
    },
    {
      "cell_type": "code",
      "source": [
        "'''\n",
        "approach:\n",
        "for zone: prev values for same store, if multiple then pick mode\n",
        "for longitude: prev values for same store with same zone\n",
        "for review: put sentiment as ambivalent\n",
        "for online availability: put N\n",
        "'''\n",
        "\n",
        "df_train.isna().sum()\n",
        "\n"
      ],
      "metadata": {
        "colab": {
          "base_uri": "https://localhost:8080/"
        },
        "id": "JxtEfhAb9ErP",
        "outputId": "a76aee26-796e-4798-fc99-293ed7a51cd6"
      },
      "execution_count": null,
      "outputs": [
        {
          "output_type": "execute_result",
          "data": {
            "text/plain": [
              "row_id                    0\n",
              "date                      0\n",
              "store                     0\n",
              "product                   0\n",
              "num_sold                  0\n",
              "latitude                  0\n",
              "longitude              1586\n",
              "zone                    799\n",
              "official_franchisee       0\n",
              "review                 3092\n",
              "area                      0\n",
              "rent                      0\n",
              "Working_hrs               0\n",
              "Online_availability    1496\n",
              "Phone-no                  0\n",
              "dtype: int64"
            ]
          },
          "metadata": {},
          "execution_count": 90
        }
      ]
    },
    {
      "cell_type": "code",
      "source": [
        "df_train.isnull().sum()"
      ],
      "metadata": {
        "colab": {
          "base_uri": "https://localhost:8080/"
        },
        "id": "LNjXZekQ9IRr",
        "outputId": "6adb55c9-0411-41d9-ecd3-7ee588b48e22"
      },
      "execution_count": null,
      "outputs": [
        {
          "output_type": "execute_result",
          "data": {
            "text/plain": [
              "row_id                    0\n",
              "date                      0\n",
              "store                     0\n",
              "product                   0\n",
              "num_sold                  0\n",
              "latitude                  0\n",
              "longitude              1586\n",
              "zone                    799\n",
              "official_franchisee       0\n",
              "review                 3092\n",
              "area                      0\n",
              "rent                      0\n",
              "Working_hrs               0\n",
              "Online_availability    1496\n",
              "Phone-no                  0\n",
              "dtype: int64"
            ]
          },
          "metadata": {},
          "execution_count": 91
        }
      ]
    },
    {
      "cell_type": "code",
      "source": [
        "df_train[\"Online_availability\"].fillna(\"N\", inplace=True)\n",
        "df_train.isnull().sum()"
      ],
      "metadata": {
        "colab": {
          "base_uri": "https://localhost:8080/"
        },
        "id": "w5y0Um56JjZ8",
        "outputId": "546385a5-10d3-4758-909b-9ae5282a74df"
      },
      "execution_count": null,
      "outputs": [
        {
          "output_type": "execute_result",
          "data": {
            "text/plain": [
              "row_id                    0\n",
              "date                      0\n",
              "store                     0\n",
              "product                   0\n",
              "num_sold                  0\n",
              "latitude                  0\n",
              "longitude              1586\n",
              "zone                    799\n",
              "official_franchisee       0\n",
              "review                 3092\n",
              "area                      0\n",
              "rent                      0\n",
              "Working_hrs               0\n",
              "Online_availability       0\n",
              "Phone-no                  0\n",
              "dtype: int64"
            ]
          },
          "metadata": {},
          "execution_count": 92
        }
      ]
    },
    {
      "cell_type": "code",
      "source": [
        "df_train.columns"
      ],
      "metadata": {
        "colab": {
          "base_uri": "https://localhost:8080/"
        },
        "id": "xfpTVt-_GQZB",
        "outputId": "79c0a7b6-0cfa-419f-923e-7e9defec4115"
      },
      "execution_count": null,
      "outputs": [
        {
          "output_type": "execute_result",
          "data": {
            "text/plain": [
              "Index(['row_id', 'date', 'store', 'product', 'num_sold', 'latitude',\n",
              "       'longitude', 'zone', 'official_franchisee', 'review', 'area', 'rent',\n",
              "       'Working_hrs', 'Online_availability', 'Phone-no'],\n",
              "      dtype='object')"
            ]
          },
          "metadata": {},
          "execution_count": 93
        }
      ]
    },
    {
      "cell_type": "code",
      "source": [
        "df_train[df_train[\"store\"]==\"Lifestyle\"][\"zone\"].mode()\n",
        "\n",
        "#df_train[df_train[\"store\"]==\"Lifestyle\"][\"zone\"].value_counts()\n"
      ],
      "metadata": {
        "colab": {
          "base_uri": "https://localhost:8080/"
        },
        "id": "_NS9EC7tBwOY",
        "outputId": "06ba1bd4-4f7c-4c44-e59a-7555766c2107"
      },
      "execution_count": null,
      "outputs": [
        {
          "output_type": "execute_result",
          "data": {
            "text/plain": [
              "0    south\n",
              "dtype: object"
            ]
          },
          "metadata": {},
          "execution_count": 94
        }
      ]
    },
    {
      "cell_type": "code",
      "source": [
        "stores = df_train[\"store\"].unique()\n",
        "stores"
      ],
      "metadata": {
        "colab": {
          "base_uri": "https://localhost:8080/"
        },
        "id": "YfFqRWPiHP0n",
        "outputId": "0a933221-7a1f-4eb2-de65-b050ba23a41a"
      },
      "execution_count": null,
      "outputs": [
        {
          "output_type": "execute_result",
          "data": {
            "text/plain": [
              "array(['CMart', 'Petals', 'PTK Garments', 'CLai', 'Planet Fashion',\n",
              "       'Lifestyle', 'Only Vimal', 'Pantaloons'], dtype=object)"
            ]
          },
          "metadata": {},
          "execution_count": 95
        }
      ]
    },
    {
      "cell_type": "code",
      "source": [
        "zoneModeForEachStore = {}\n",
        "for i in stores:\n",
        "  zoneModeForEachStore[i] = df_train[df_train[\"store\"]==\"Lifestyle\"][\"zone\"].mode()\n",
        "  \n",
        "zoneModeForEachStore"
      ],
      "metadata": {
        "colab": {
          "base_uri": "https://localhost:8080/"
        },
        "id": "5o3dPopMFmiq",
        "outputId": "f995dfa1-00b2-4a7a-b21f-86413627eb0f"
      },
      "execution_count": null,
      "outputs": [
        {
          "output_type": "execute_result",
          "data": {
            "text/plain": [
              "{'CLai': 0    south\n",
              " dtype: object, 'CMart': 0    south\n",
              " dtype: object, 'Lifestyle': 0    south\n",
              " dtype: object, 'Only Vimal': 0    south\n",
              " dtype: object, 'PTK Garments': 0    south\n",
              " dtype: object, 'Pantaloons': 0    south\n",
              " dtype: object, 'Petals': 0    south\n",
              " dtype: object, 'Planet Fashion': 0    south\n",
              " dtype: object}"
            ]
          },
          "metadata": {},
          "execution_count": 96
        }
      ]
    },
    {
      "cell_type": "code",
      "source": [
        "zoneModeForEachStore[\"CLai\"][0]"
      ],
      "metadata": {
        "colab": {
          "base_uri": "https://localhost:8080/",
          "height": 35
        },
        "id": "Kgps_KbsHoF8",
        "outputId": "ac3737f8-8e53-4877-ef17-d812c5d97a35"
      },
      "execution_count": null,
      "outputs": [
        {
          "output_type": "execute_result",
          "data": {
            "text/plain": [
              "'south'"
            ],
            "application/vnd.google.colaboratory.intrinsic+json": {
              "type": "string"
            }
          },
          "metadata": {},
          "execution_count": 97
        }
      ]
    },
    {
      "cell_type": "code",
      "source": [
        "df_train[\"zone\"].fillna(\"south\", inplace=True)\n",
        "\n",
        "df_train.isnull().sum()"
      ],
      "metadata": {
        "colab": {
          "base_uri": "https://localhost:8080/"
        },
        "id": "InR0IDHiKiqy",
        "outputId": "6137dfb1-a2b7-4b94-8d2c-b1d25cf2e66a"
      },
      "execution_count": null,
      "outputs": [
        {
          "output_type": "execute_result",
          "data": {
            "text/plain": [
              "row_id                    0\n",
              "date                      0\n",
              "store                     0\n",
              "product                   0\n",
              "num_sold                  0\n",
              "latitude                  0\n",
              "longitude              1586\n",
              "zone                      0\n",
              "official_franchisee       0\n",
              "review                 3092\n",
              "area                      0\n",
              "rent                      0\n",
              "Working_hrs               0\n",
              "Online_availability       0\n",
              "Phone-no                  0\n",
              "dtype: int64"
            ]
          },
          "metadata": {},
          "execution_count": 98
        }
      ]
    },
    {
      "cell_type": "code",
      "source": [
        "len(df_train[df_train[\"store\"] == \"CMart\"][\"longitude\"].unique()) # 1309 unique longitudes for CMart"
      ],
      "metadata": {
        "colab": {
          "base_uri": "https://localhost:8080/"
        },
        "id": "4_VMnGRdKzJZ",
        "outputId": "216db473-b2fc-4ccf-f2b2-1f2626fe41b3"
      },
      "execution_count": null,
      "outputs": [
        {
          "output_type": "execute_result",
          "data": {
            "text/plain": [
              "1309"
            ]
          },
          "metadata": {},
          "execution_count": 106
        }
      ]
    },
    {
      "cell_type": "code",
      "source": [
        ""
      ],
      "metadata": {
        "id": "6rjL-PZPLo43"
      },
      "execution_count": null,
      "outputs": []
    }
  ]
}